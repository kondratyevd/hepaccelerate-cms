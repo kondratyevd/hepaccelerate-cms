{
 "cells": [
  {
   "cell_type": "code",
   "execution_count": null,
   "metadata": {},
   "outputs": [],
   "source": [
    "%matplotlib inline\n",
    "import json\n",
    "import matplotlib.pyplot as plt\n",
    "import numpy as np\n",
    "import sys\n",
    "import os\n",
    "import pickle\n",
    "sys.path.append(os.getcwd() + \"/../tests/hmm\")\n",
    "sys.path.append(os.getcwd() + \"/../hepaccelerate\")"
   ]
  },
  {
   "cell_type": "code",
   "execution_count": null,
   "metadata": {},
   "outputs": [],
   "source": [
    "from scipy.stats import wasserstein_distance"
   ]
  },
  {
   "cell_type": "code",
   "execution_count": null,
   "metadata": {},
   "outputs": [],
   "source": [
    "import copy"
   ]
  },
  {
   "cell_type": "code",
   "execution_count": null,
   "metadata": {},
   "outputs": [],
   "source": [
    "import hepaccelerate\n",
    "import pars, plotting\n",
    "from pars import cross_sections\n",
    "\n",
    "from plotting import load_hist, make_pdf_plot, plot_hist_step, midpoints, histstep\n",
    "plotting.plt = plt"
   ]
  },
  {
   "cell_type": "code",
   "execution_count": null,
   "metadata": {},
   "outputs": [],
   "source": [
    "shape_systematics = [\"Total\", \"puWeight\"]"
   ]
  },
  {
   "cell_type": "code",
   "execution_count": null,
   "metadata": {},
   "outputs": [],
   "source": [
    "mc_samples_combine_H = [\n",
    "    \"ggh\",\n",
    "    \"vbf\",\n",
    "    \"wmh\",\n",
    "    \"wph\",\n",
    "    \"zh\",\n",
    "    \"tth\",\n",
    "    #\"wz_1l1nu2q\",\n",
    "    \"wz_3lnu\",\n",
    "    \"ww_2l2nu\", \"wz_2l2q\", \"zz\",\n",
    "    #\"ewk_lljj_mll50_mjj120\",\n",
    "    \"ewk_lljj_mll105_160\",\n",
    "    #\"st_top\",\n",
    "    #\"st_t_antitop\",\n",
    "    \"st_tw_top\",\n",
    "    \"st_tw_antitop\",\n",
    "    \"ttjets_sl\", \"ttjets_dl\",\n",
    "    \"dy_m105_160_amc\", \"dy_m105_160_vbf_amc\",\n",
    "    \"www\",\"wwz\",\"wzz\",\"zzz\",\n",
    "]\n",
    "\n",
    "mc_samples_combine_Z = [\n",
    "    \"ggh\",\n",
    "    \"vbf\",\n",
    "    \"wmh\",\n",
    "    \"wph\",\n",
    "    \"zh\",\n",
    "    \"tth\",\n",
    "    #\"wz_1l1nu2q\",\n",
    "    \"wz_3lnu\",\n",
    "    \"ww_2l2nu\", \"wz_2l2q\", \"zz\",\n",
    "    \"ewk_lljj_mll50_mjj120\",\n",
    "    #\"ewk_lljj_mll105_160\",\n",
    "    #\"st_top\",\n",
    "    #\"st_t_antitop\",\n",
    "    \"st_tw_top\",\n",
    "    \"st_tw_antitop\",\n",
    "    \"ttjets_sl\", \"ttjets_dl\",\n",
    "    \"dy_0j\", \"dy_1j\", \"dy_2j\",\n",
    "    \"www\",\"wwz\",\"wzz\",\"zzz\",\n",
    "]\n",
    "mc_samples_load = list(set(mc_samples_combine_H + mc_samples_combine_Z))"
   ]
  },
  {
   "cell_type": "code",
   "execution_count": null,
   "metadata": {},
   "outputs": [],
   "source": [
    "dd = \"../results/2019_08_13_v2/results/\"\n",
    "era = \"2018\"\n",
    "res = {}\n",
    "res[\"data\"] = pickle.load(open(dd + \"/data_{0}.pkl\".format(era), \"rb\"))\n",
    "for mc_samp in mc_samples_load:\n",
    "    res[mc_samp] = pickle.load(open(dd + \"/{0}_{1}.pkl\".format(mc_samp, era), \"rb\"))"
   ]
  },
  {
   "cell_type": "code",
   "execution_count": null,
   "metadata": {},
   "outputs": [],
   "source": [
    "genweights = {}\n",
    "weight_xs = {}\n",
    "#in inverse picobarns\n",
    "int_lumi = res[\"data\"][\"baseline\"][\"int_lumi\"]\n",
    "for mc_samp in mc_samples_load:\n",
    "    genweights[mc_samp] = res[mc_samp][\"genEventSumw\"]\n",
    "    weight_xs[mc_samp] = cross_sections[mc_samp] * int_lumi / genweights[mc_samp]"
   ]
  },
  {
   "cell_type": "code",
   "execution_count": null,
   "metadata": {},
   "outputs": [],
   "source": [
    "histnames = [h for h in res[\"data\"][\"baseline\"].keys() if h.startswith(\"hist__\")]"
   ]
  },
  {
   "cell_type": "code",
   "execution_count": null,
   "metadata": {},
   "outputs": [],
   "source": [
    "sorted(histnames)"
   ]
  },
  {
   "cell_type": "code",
   "execution_count": null,
   "metadata": {},
   "outputs": [],
   "source": [
    "catnames = {\n",
    "    \"dimuon_invmass_z_peak_cat5\": \"dimuons, Z region, cat 5\",\n",
    "    \"dimuon_invmass_h_peak_cat5\": \"dimuons, H SR, cat 5\",\n",
    "    \"dimuon_invmass_h_sideband_cat5\": \"dimuons, H SB, cat 5\",\n",
    "\n",
    "    \"dimuon_invmass_z_peak\": \"dimuons, Z region\",\n",
    "    \"dimuon_invmass_h_peak\": \"dimuons, H SR\",\n",
    "    \"dimuon_invmass_h_sideband\": \"dimuons, H SB\",\n",
    "\n",
    "    \"dnn_presel\": r\"dimuons, $\\geq 2$ jets\",\n",
    "    \"dimuon\": \"dimuons\",\n",
    "}\n",
    "\n",
    "varnames = {\n",
    "    \"subleadingJet_pt\": \"subleading jet $p_T$ [GeV]\",\n",
    "    \"subleadingJet_eta\": \"subleading jet $\\eta$\",\n",
    "    \"leadingJet_pt\": \"leading jet $p_T$ [GeV]\",\n",
    "    \"leadingJet_eta\": \"leading jet $\\eta$\",\n",
    "    \"pt_balance\": \"$p_T$ balance\"\n",
    "}\n",
    "\n",
    "analysis_names = {\n",
    "    \"baseline\": \"JEC V16\",\n",
    "    \"oldjec\": \"JEC V8\"\n",
    "}"
   ]
  },
  {
   "cell_type": "code",
   "execution_count": null,
   "metadata": {},
   "outputs": [],
   "source": [
    "from mpl_toolkits.axes_grid1.inset_locator import inset_axes"
   ]
  },
  {
   "cell_type": "code",
   "execution_count": null,
   "metadata": {},
   "outputs": [],
   "source": [
    "def histstep(ax, edges, contents, **kwargs):\n",
    "    ymins = []\n",
    "    ymaxs = []\n",
    "    xmins = []\n",
    "    xmaxs = []\n",
    "    for istep in range(len(edges)-1):\n",
    "        xmins += [edges[istep]]\n",
    "        xmaxs += [edges[istep+1]]\n",
    "        ymins += [contents[istep]]\n",
    "        if istep + 1 < len(contents):\n",
    "            ymaxs += [contents[istep+1]]\n",
    "\n",
    "    if kwargs.get(\"color\", None) is None:\n",
    "        kwargs[\"color\"] = next(ax._get_lines.prop_cycler)['color']\n",
    "\n",
    "    ymaxs += [ymaxs[-1]]\n",
    "    l0 = ax.hlines(ymins, xmins, xmaxs, **kwargs)\n",
    "    l1 = ax.vlines(xmaxs, ymins, ymaxs, color=l0.get_color(), linestyles=l0.get_linestyle())\n",
    "    return l0\n",
    "\n",
    "def assign_plot_title_label(histname):\n",
    "    spl = histname.split(\"__\")\n",
    "    varname_nice = \"UNKNOWN\"\n",
    "    catname_nice = \"UNKNOWN\"\n",
    "    if len(spl) == 3:\n",
    "        catname = spl[1]\n",
    "        varname = spl[2]\n",
    "        catname_nice = catnames[catname]\n",
    "        if varname in varnames.keys():\n",
    "            varname_nice = varnames[varname]\n",
    "        else:\n",
    "            varname_nice = varname\n",
    "            print(\"WARNING: please define {0} in pars.py\".format(varname))\n",
    "            \n",
    "    return varname_nice, catname_nice\n",
    "\n",
    "def plot_hist_ratio(hists_mc, hist_data,\n",
    "        total_err_stat=None,\n",
    "        total_err_stat_syst=None,\n",
    "        figure=None):\n",
    "    \n",
    "    if not figure:\n",
    "        figure = plt.figure(figsize=(4,4), dpi=100)\n",
    "\n",
    "    ax1 = plt.axes([0.0, 0.23, 1.0, 0.8])\n",
    "       \n",
    "    hmc_tot = np.zeros_like(hist_data.contents)\n",
    "    hmc_tot2 = np.zeros_like(hist_data.contents)\n",
    "    for h in hists_mc:\n",
    "        plot_hist_step(ax1, h.edges, hmc_tot + h.contents,\n",
    "            np.sqrt(hmc_tot2 + h.contents_w2),\n",
    "            kwargs_step={\"label\": getattr(h, \"label\", None), \"color\": getattr(h, \"color\", None)}\n",
    "        )\n",
    "        \n",
    "        b = ax1.bar(midpoints(h.edges), h.contents, np.diff(h.edges), hmc_tot, color=getattr(h, \"color\", None))\n",
    "        hmc_tot += h.contents\n",
    "        hmc_tot2 += h.contents_w2\n",
    "\n",
    "#    plot_hist_step(h[\"edges\"], hmc_tot, np.sqrt(hmc_tot2), kwargs_step={\"color\": \"gray\", \"label\": None})\n",
    "    ax1.errorbar(\n",
    "        midpoints(hist_data.edges), hist_data.contents,\n",
    "        np.sqrt(hist_data.contents_w2), marker=\"o\", lw=0,\n",
    "        elinewidth=1.0, color=\"black\", ms=3, label=getattr(hist_data, \"label\", None))\n",
    "    \n",
    "    if not (total_err_stat_syst is None):\n",
    "        histstep(ax1, hist_data.edges, hmc_tot + total_err_stat_syst, color=\"blue\", linewidth=0.5, linestyle=\"--\", label=\"stat+syst\")\n",
    "        histstep(ax1, hist_data.edges, hmc_tot - total_err_stat_syst, color=\"blue\", linewidth=0.5, linestyle=\"--\")\n",
    "    \n",
    "    if not (total_err_stat is None):\n",
    "        histstep(ax1, hist_data.edges, hmc_tot + total_err_stat, color=\"gray\", linewidth=0.5, linestyle=\"--\", label=\"stat\")\n",
    "        histstep(ax1, hist_data.edges, hmc_tot - total_err_stat, color=\"gray\", linewidth=0.5, linestyle=\"--\")\n",
    "        \n",
    "#     ax1.set_yscale(\"log\")\n",
    "#     ax1.set_ylim(1e-2, 100*np.max(hist_data.contents))\n",
    "    \n",
    "    #ax1.get_yticklabels()[-1].remove()\n",
    "    \n",
    "    ax2 = plt.axes([0.0, 0.0, 1.0, 0.16], sharex=ax1)\n",
    "\n",
    "    ratio = hist_data.contents / hmc_tot\n",
    "    ratio_err = np.sqrt(hist_data.contents_w2) /hmc_tot\n",
    "    ratio[np.isnan(ratio)] = 0\n",
    "\n",
    "    plt.errorbar(midpoints(hist_data.edges), ratio, ratio_err, marker=\"o\", lw=0, elinewidth=1, ms=3, color=\"black\")\n",
    "\n",
    "    if not (total_err_stat_syst is None):\n",
    "        ratio_up = (hmc_tot + total_err_stat_syst) / hmc_tot\n",
    "        ratio_down = (hmc_tot - total_err_stat_syst) / hmc_tot\n",
    "        ratio_down[np.isnan(ratio_down)] = 1\n",
    "        ratio_down[np.isnan(ratio_up)] = 1\n",
    "        histstep(ax2, hist_data.edges, ratio_up, color=\"blue\", linewidth=0.5, linestyle=\"--\")\n",
    "        histstep(ax2, hist_data.edges, ratio_down, color=\"blue\", linewidth=0.5, linestyle=\"--\")\n",
    "\n",
    "    if not (total_err_stat is None):\n",
    "        ratio_up = (hmc_tot + total_err_stat) / hmc_tot\n",
    "        ratio_down = (hmc_tot - total_err_stat) / hmc_tot\n",
    "        ratio_down[np.isnan(ratio_down)] = 1\n",
    "        ratio_down[np.isnan(ratio_up)] = 1\n",
    "        histstep(ax2, hist_data.edges, ratio_up, color=\"gray\", linewidth=0.5, linestyle=\"--\")\n",
    "        histstep(ax2, hist_data.edges, ratio_down, color=\"gray\", linewidth=0.5, linestyle=\"--\")\n",
    "\n",
    "                \n",
    "    plt.ylim(0.5, 1.5)\n",
    "    plt.axhline(1.0, color=\"black\")\n",
    "    \n",
    "    return ax1, ax2\n",
    "\n",
    "def make_pdf_plot(args, **kwargs):\n",
    "    res, hd, mc_samples, analysis, var, weight, weight_xs, int_lumi, outdir, datataking_year, groups = args\n",
    "\n",
    "    hist_template = copy.deepcopy(hd)\n",
    "    hist_template.contents[:] = 0\n",
    "    hist_template.contents_w2[:] = 0\n",
    "\n",
    "    hmc = {}\n",
    "\n",
    "    for mc_samp in mc_samples:\n",
    "        h = res[mc_samp][weight]\n",
    "        h = h * weight_xs[mc_samp]\n",
    "        h.label = \"{0} ({1:.1E})\".format(mc_samp, np.sum(h.contents))\n",
    "        hmc[mc_samp] = h\n",
    "    \n",
    "    hmc_g = group_samples(hmc, groups)\n",
    "\n",
    "    for k, v in hmc_g.items():\n",
    "        if k in colors.keys():\n",
    "            v.color = colors[k][0]/255.0, colors[k][1]/255.0, colors[k][2]/255.0\n",
    "    hmc = [hmc_g[k[0]] for k in groups]\n",
    "\n",
    "        \n",
    "    htot_nominal = sum(hmc, hist_template)\n",
    "    htot_variated = {}\n",
    "    hdelta_quadrature = np.zeros_like(hist_template.contents)\n",
    "    \n",
    "    for sdir in [\"__up\", \"__down\"]:\n",
    "        for unc in shape_systematics:\n",
    "            if (unc + sdir) in res[mc_samp]:\n",
    "                htot_variated[unc + sdir] = sum([\n",
    "                    res[mc_samp][unc + sdir]* weight_xs[mc_samp] for mc_samp in mc_samples\n",
    "                ], hist_template)\n",
    "                hdelta_quadrature += (htot_nominal.contents - htot_variated[unc+sdir].contents)**2\n",
    "            \n",
    "    hdelta_quadrature_stat = np.sqrt(htot_nominal.contents_w2)\n",
    "    hdelta_quadrature_stat_syst = np.sqrt(hdelta_quadrature_stat**2 + hdelta_quadrature)\n",
    "    hd.label = \"data ({0:.1E})\".format(np.sum(hd.contents))\n",
    "\n",
    "    figure = plt.figure(figsize=(5,5), dpi=100)\n",
    "    a1, a2 = plot_hist_ratio(hmc, hd,\n",
    "        total_err_stat=hdelta_quadrature_stat, total_err_stat_syst=hdelta_quadrature_stat_syst, figure=figure)\n",
    "    \n",
    "    colorlist = [h.color for h in hmc]\n",
    "    a1inset = inset_axes(a1, width=1.0, height=0.1, loc=2)\n",
    "    pct_barh(a1inset, [np.sum(h.contents) for h in hmc], colorlist)\n",
    "    #a2.grid(which=\"both\", linewidth=0.5)\n",
    "    \n",
    "    # Ratio axis ticks\n",
    "    #ts = a2.set_yticks([0.5, 1.0, 1.5], minor=False)\n",
    "    #ts = a2.set_yticks(np.arange(0,2,0.2), minor=True)\n",
    "    #ts = a2.set_xticklabels([])\n",
    "\n",
    "    #a2.set_yticks(np.linspace(0.5,1.5, ))\n",
    "    if var.startswith(\"hist_numjet\"):\n",
    "        a1.set_xticks(hd[\"edges\"])\n",
    "\n",
    "    a1.text(0.03,0.95, \"CMS internal\\n\" +\n",
    "        r\"$L = {0:.1f}\\ fb^{{-1}}$\".format(int_lumi/1000.0) + \n",
    "        \"\\nd/mc={0:.2f}\".format(np.sum(hd.contents)/np.sum(htot_nominal.contents)) + \n",
    "        \"\\nwd={0:.2E}\".format(wasserstein_distance(htot_nominal.contents/np.sum(htot_nominal.contents), hd.contents/np.sum(hd.contents))),\n",
    "        horizontalalignment='left',\n",
    "        verticalalignment='top',\n",
    "        transform=a1.transAxes,\n",
    "        fontsize=10\n",
    "    )\n",
    "    handles, labels = a1.get_legend_handles_labels()\n",
    "    a1.legend(handles[::-1], labels[::-1], frameon=False, fontsize=10, loc=1, ncol=2)\n",
    "    \n",
    "    varname, catname = assign_plot_title_label(var)\n",
    "    \n",
    "    a1.set_title(catname + \" ({0})\".format(analysis_names[analysis]))\n",
    "    a2.set_xlabel(varname)\n",
    "    \n",
    "    binwidth = np.diff(hd.edges)[0]\n",
    "    a1.set_ylabel(\"events / bin [{0:.1f}]\".format(binwidth))\n",
    "    try:\n",
    "        os.makedirs(outdir + \"/png\")\n",
    "    except Exception as e:\n",
    "        pass\n",
    "    try:\n",
    "        os.makedirs(outdir + \"/pdf\")\n",
    "    except Exception as e:\n",
    "        pass\n",
    "    #plt.savefig(outdir + \"/pdf/{0}_{1}_{2}.pdf\".format(analysis, var, weight), bbox_inches=\"tight\")\n",
    "    #plt.savefig(outdir + \"/png/{0}_{1}_{2}.png\".format(analysis, var, weight), bbox_inches=\"tight\", dpi=100)\n",
    "    #plt.close(figure)\n",
    "    #del figure\n",
    " \n",
    "    return a1, a2"
   ]
  },
  {
   "cell_type": "code",
   "execution_count": null,
   "metadata": {},
   "outputs": [],
   "source": [
    "def pct_barh(ax, values, colors):\n",
    "    prev = 0\n",
    "    norm = sum(values)\n",
    "    for v, c in zip(values, colors):\n",
    "        ax.barh(0, width=v/norm, height=1.0, left=prev, color=c)\n",
    "        prev += v/norm\n",
    "    ax.set_yticks([])\n",
    "    ax.set_xticks([])\n",
    "    ax.set_xlim(0,prev)\n",
    "    ax.axis('off')"
   ]
  },
  {
   "cell_type": "code",
   "execution_count": null,
   "metadata": {},
   "outputs": [],
   "source": [
    "def group_samples(histos, groups):\n",
    "    ret = {}\n",
    "    for groupname, groupcontents in groups:\n",
    "        ret[groupname] = []\n",
    "        for gc in groupcontents:\n",
    "            if gc in histos:\n",
    "                ret[groupname] += [histos[gc]]\n",
    "        assert(len(ret[groupname]) > 0)\n",
    "        ret[groupname] = sum(ret[groupname][1:], ret[groupname][0])\n",
    "        ret[groupname].label = \"{0} ({1:.2E})\".format(groupname, np.sum(ret[groupname].contents))\n",
    "    return ret"
   ]
  },
  {
   "cell_type": "code",
   "execution_count": null,
   "metadata": {},
   "outputs": [],
   "source": [
    "groups = [\n",
    "    (\"higgs\", [\"ggh\", \"vbf\", \"wmh\", \"wph\", \"zh\", \"tth\"]),\n",
    "    (\"vv\", [\"wz_3lnu\", \"ww_2l2nu\", \"wz_2l2q\", \"zz\"]),\n",
    "    (\"vvv\", [\"www\",\"wwz\",\"wzz\",\"zzz\"]),\n",
    "    (\"ewk\", [\"ewk_lljj_mll50_mjj120\", \"ewk_lljj_mll105_160\"]),\n",
    "    (\"stop\", [\"st_tw_top\", \"st_tw_antitop\"]),\n",
    "    (\"tt\", [\"ttjets_sl\", \"ttjets_dl\",]),\n",
    "    (\"dy\", [\"dy_0j\", \"dy_1j\", \"dy_2j\", \"dy_m105_160_amc\", \"dy_m105_160_vbf_amc\"]),\n",
    "]"
   ]
  },
  {
   "cell_type": "code",
   "execution_count": null,
   "metadata": {},
   "outputs": [],
   "source": [
    "colors = {\n",
    "    \"dy\": (254, 254, 83),\n",
    "    \"ewk\": (109, 253, 245),\n",
    "    \"stop\": (236, 76, 105),\n",
    "    \"tt\": (67, 150, 42),\n",
    "    \"vvv\": (247, 206, 205),\n",
    "    \"vv\": (100, 105, 98),\n",
    "    \"higgs\": (0, 0, 0),\n",
    "}"
   ]
  },
  {
   "cell_type": "code",
   "execution_count": null,
   "metadata": {},
   "outputs": [],
   "source": [
    "def plot_analysis_var(analysis, var, mc_samples, **kwargs):\n",
    "    histos = {s: copy.deepcopy(res[s][analysis][var]) for s in mc_samples + [\"data\"]}\n",
    "    hdata = copy.deepcopy(histos[\"data\"][\"nominal\"])\n",
    "    \n",
    "    if \"edges\" in kwargs:\n",
    "        for k, hs in histos.items():\n",
    "            for syst, h in hs.items():\n",
    "                h.edges = kwargs.get(\"edges\")\n",
    "        hdata.edges = kwargs.get(\"edges\")\n",
    "        \n",
    "    args = [(\n",
    "        histos, hdata, mc_samples, analysis,\n",
    "        var, \"nominal\", weight_xs, int_lumi, \"./\", era, groups)]\n",
    "    a1, a2 = make_pdf_plot(*args)\n",
    "    return a1, a2\n"
   ]
  },
  {
   "cell_type": "code",
   "execution_count": null,
   "metadata": {},
   "outputs": [],
   "source": [
    "for analysis in [\"oldjec\", \"baseline\"]:\n",
    "    a1, a2 = plot_analysis_var(analysis, \"hist__dimuon_invmass_z_peak_cat5__leadingJet_eta\", mc_samples_combine_Z)\n",
    "    a1.set_yscale(\"linear\")\n",
    "    a1.set_ylim(0,25000)\n",
    "    a2.set_ylim(0,2)"
   ]
  },
  {
   "cell_type": "code",
   "execution_count": null,
   "metadata": {},
   "outputs": [],
   "source": [
    "for analysis in [\"oldjec\", \"baseline\"]:\n",
    "    a1, a2 = plot_analysis_var(analysis, \"hist__dimuon_invmass_z_peak_cat5__subleadingJet_eta\", mc_samples_combine_Z)\n",
    "    a1.set_yscale(\"linear\")\n",
    "    a1.set_ylim(0,30000)\n",
    "    a2.set_ylim(0,2)"
   ]
  },
  {
   "cell_type": "code",
   "execution_count": null,
   "metadata": {},
   "outputs": [],
   "source": [
    "for analysis in [\"oldjec\", \"baseline\"]:\n",
    "    a1, a2 = plot_analysis_var(analysis, \"hist__dimuon_invmass_h_sideband_cat5__leadingJet_eta\", mc_samples_combine_H)\n",
    "    a1.set_yscale(\"linear\")\n",
    "    a1.set_ylim(0,300)\n",
    "    a2.set_ylim(0,2)"
   ]
  },
  {
   "cell_type": "code",
   "execution_count": null,
   "metadata": {},
   "outputs": [],
   "source": [
    "for analysis in [\"oldjec\", \"baseline\"]:\n",
    "    a1, a2 = plot_analysis_var(analysis, \"hist__dimuon_invmass_h_peak_cat5__leadingJet_eta\", mc_samples_combine_H)\n",
    "    a1.set_yscale(\"linear\")\n",
    "    a1.set_ylim(0,300)\n",
    "    a2.set_ylim(0,2)"
   ]
  },
  {
   "cell_type": "code",
   "execution_count": null,
   "metadata": {},
   "outputs": [],
   "source": [
    "for analysis in [\"oldjec\", \"baseline\"]:\n",
    "    a1, a2 = plot_analysis_var(analysis, \"hist__dimuon_invmass_z_peak_cat5__subleadingJet_eta\", mc_samples_combine_Z)\n",
    "    a1.set_yscale(\"linear\")\n",
    "    a1.set_ylim(0,30000)\n",
    "    a2.set_ylim(0,2)"
   ]
  },
  {
   "cell_type": "code",
   "execution_count": null,
   "metadata": {},
   "outputs": [],
   "source": [
    "for analysis in [\"oldjec\", \"baseline\"]:\n",
    "    a1, a2 = plot_analysis_var(analysis, \"hist__dimuon_invmass_h_sideband_cat5__subleadingJet_eta\", mc_samples_combine_H)\n",
    "    a1.set_yscale(\"linear\")\n",
    "    a1.set_ylim(0,400)\n",
    "    a2.set_ylim(0,2)"
   ]
  },
  {
   "cell_type": "code",
   "execution_count": null,
   "metadata": {},
   "outputs": [],
   "source": [
    "for analysis in [\"oldjec\", \"baseline\"]:\n",
    "    a1, a2 = plot_analysis_var(analysis, \"hist__dimuon_invmass_h_peak_cat5__subleadingJet_eta\", mc_samples_combine_H)\n",
    "    a1.set_yscale(\"linear\")\n",
    "    a1.set_ylim(0,500)\n",
    "    a2.set_ylim(0,2)"
   ]
  },
  {
   "cell_type": "code",
   "execution_count": null,
   "metadata": {},
   "outputs": [],
   "source": [
    "for analysis in [\"oldjec\", \"baseline\"]:\n",
    "    a1, a2 = plot_analysis_var(analysis, \"hist__dimuon_invmass_z_peak_cat5__leadingJet_pt\", mc_samples_combine_Z)\n",
    "    a1.set_yscale(\"linear\")\n",
    "    a1.set_ylim(0,70000)\n",
    "    a2.set_ylim(0,2)\n",
    "    a2.set_xlim(35,200)"
   ]
  },
  {
   "cell_type": "code",
   "execution_count": null,
   "metadata": {},
   "outputs": [],
   "source": [
    "for analysis in [\"oldjec\", \"baseline\"]:\n",
    "    a1, a2 = plot_analysis_var(analysis, \"hist__dimuon_invmass_h_sideband_cat5__leadingJet_pt\", mc_samples_combine_H)\n",
    "    a1.set_yscale(\"linear\")\n",
    "    a1.set_ylim(0,600)\n",
    "    a2.set_ylim(0,2)\n",
    "    a2.set_xlim(35,200)"
   ]
  },
  {
   "cell_type": "code",
   "execution_count": null,
   "metadata": {},
   "outputs": [],
   "source": [
    "for analysis in [\"oldjec\", \"baseline\"]:\n",
    "    a1, a2 = plot_analysis_var(analysis, \"hist__dimuon_invmass_h_peak_cat5__leadingJet_pt\", mc_samples_combine_H)\n",
    "    a1.set_yscale(\"linear\")\n",
    "    a1.set_ylim(0,600)\n",
    "    a2.set_ylim(0,2)\n",
    "    a2.set_xlim(35,200)"
   ]
  },
  {
   "cell_type": "code",
   "execution_count": null,
   "metadata": {},
   "outputs": [],
   "source": [
    "for analysis in [\"oldjec\", \"baseline\"]:\n",
    "    a1, a2 = plot_analysis_var(analysis, \"hist__dimuon_invmass_z_peak_cat5__pt_balance\", mc_samples_combine_Z)\n",
    "    a1.set_yscale(\"linear\")\n",
    "    a1.set_ylim(0,70000)\n",
    "    a2.set_ylim(0,2)\n",
    "    a2.set_xlim(0,5)"
   ]
  },
  {
   "cell_type": "code",
   "execution_count": null,
   "metadata": {},
   "outputs": [],
   "source": [
    "for analysis in [\"oldjec\", \"baseline\"]:\n",
    "    a1, a2 = plot_analysis_var(analysis, \"hist__dimuon_invmass_h_sideband_cat5__pt_balance\", mc_samples_combine_H)\n",
    "    a1.set_yscale(\"linear\")\n",
    "    a1.set_ylim(0,1000)\n",
    "    a2.set_ylim(0,2)\n",
    "    a2.set_xlim(0,5)"
   ]
  },
  {
   "cell_type": "code",
   "execution_count": null,
   "metadata": {},
   "outputs": [],
   "source": [
    "for analysis in [\"oldjec\", \"baseline\"]:\n",
    "    a1, a2 = plot_analysis_var(analysis, \"hist__dimuon_invmass_z_peak_cat5__num_jets\", mc_samples_combine_Z)\n",
    "    a1.set_yscale(\"log\")\n",
    "    a1.set_ylim(100,1e7)"
   ]
  },
  {
   "cell_type": "code",
   "execution_count": null,
   "metadata": {},
   "outputs": [],
   "source": [
    "for analysis in [\"oldjec\", \"baseline\"]:\n",
    "    a1, a2 = plot_analysis_var(analysis, \"hist__dimuon_invmass_z_peak_cat5__num_soft_jets\", mc_samples_combine_Z)\n",
    "    a1.set_yscale(\"log\")\n",
    "    a1.set_ylim(100,1e7)"
   ]
  },
  {
   "cell_type": "code",
   "execution_count": null,
   "metadata": {},
   "outputs": [],
   "source": [
    "for analysis in [\"oldjec\", \"baseline\"]:\n",
    "    a1, a2 = plot_analysis_var(analysis, \"hist__dimuon_invmass_z_peak_cat5__bdt_ucsd\", mc_samples_combine_Z)\n",
    "    a1.set_yscale(\"log\")\n",
    "    a1.set_ylim(10,1e7)"
   ]
  },
  {
   "cell_type": "code",
   "execution_count": null,
   "metadata": {},
   "outputs": [],
   "source": [
    "for analysis in [\"oldjec\", \"baseline\"]:\n",
    "    a1, a2 = plot_analysis_var(analysis, \"hist__dimuon_invmass_h_sideband_cat5__bdt_ucsd\", mc_samples_combine_H)\n",
    "    a1.set_yscale(\"log\")\n",
    "    a1.set_ylim(1,1e4)"
   ]
  },
  {
   "cell_type": "code",
   "execution_count": null,
   "metadata": {},
   "outputs": [],
   "source": [
    "for analysis in [\"oldjec\", \"baseline\"]:\n",
    "    xs_edges = res[\"data\"][analysis][\"hist__dimuon_invmass_z_peak_cat5__dnn_pred2\"][\"nominal\"].edges\n",
    "    xs = np.arange(len(xs_edges))\n",
    "    print(xs_edges)\n",
    "    a1, a2 = plot_analysis_var(analysis, \"hist__dimuon_invmass_z_peak_cat5__dnn_pred2\", mc_samples_combine_Z)\n",
    "    a1.set_yscale(\"log\")\n",
    "    a1.set_ylim(1,1e8)\n",
    "    #a1.set_xticks(xs)\n",
    "    #a1.set_xticklabels(map(str, xs_edges))"
   ]
  },
  {
   "cell_type": "code",
   "execution_count": null,
   "metadata": {},
   "outputs": [],
   "source": [
    "for analysis in [\"oldjec\", \"baseline\"]:\n",
    "    #xs_edges = res[\"data\"][analysis][\"hist__dimuon_invmass_h_sideband_cat5__dnn_pred2\"][\"nominal\"].edges\n",
    "    #xs = np.arange(len(xs_edges))\n",
    "    #print(xs_edges)\n",
    "    a1, a2 = plot_analysis_var(analysis, \"hist__dimuon_invmass_h_sideband_cat5__dnn_pred2\", mc_samples_combine_H)\n",
    "    a1.set_yscale(\"log\")\n",
    "    a1.set_ylim(1,1e6)\n",
    "    #a1.set_xticks(xs)\n",
    "    #a1.set_xticklabels(map(str, xs_edges))"
   ]
  },
  {
   "cell_type": "code",
   "execution_count": null,
   "metadata": {},
   "outputs": [],
   "source": []
  }
 ],
 "metadata": {
  "kernelspec": {
   "display_name": "Python 3",
   "language": "python",
   "name": "python3"
  },
  "language_info": {
   "codemirror_mode": {
    "name": "ipython",
    "version": 3
   },
   "file_extension": ".py",
   "mimetype": "text/x-python",
   "name": "python",
   "nbconvert_exporter": "python",
   "pygments_lexer": "ipython3",
   "version": "3.6.7"
  }
 },
 "nbformat": 4,
 "nbformat_minor": 2
}
