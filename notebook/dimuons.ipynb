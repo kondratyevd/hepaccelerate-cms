{
 "cells": [
  {
   "cell_type": "code",
   "execution_count": null,
   "metadata": {},
   "outputs": [],
   "source": [
    "%matplotlib inline"
   ]
  },
  {
   "cell_type": "markdown",
   "metadata": {},
   "source": [
    "https://indico.cern.ch/event/628669/contributions/2600995/attachments/1463252/2266733/2017_05_26_Hmm_preApproval.pdf"
   ]
  },
  {
   "cell_type": "code",
   "execution_count": null,
   "metadata": {},
   "outputs": [],
   "source": [
    "import uproot, awkward\n",
    "import numpy as np\n",
    "import sys\n",
    "sys.path.append(\"/nfshome/jpata/gpu-analysis/\")\n",
    "if \"/nfshome/jpata/.local/lib/python3.6/site-packages\" in sys.path:\n",
    "    sys.path.pop(sys.path.index(\"/nfshome/jpata/.local/lib/python3.6/site-packages\"))\n",
    "print(sys.path)\n",
    "import hepaccelerate as ha\n",
    "import os\n",
    "os.environ[\"NUMBAPRO_NVVM\"] = \"/usr/local/cuda/nvvm/lib64/libnvvm.so\"\n",
    "os.environ[\"NUMBAPRO_LIBDEVICE\"] = \"/usr/local/cuda/nvvm/libdevice/\"\n",
    "#import cupy\n",
    "print(os.environ[\"PYTHONPATH\"])"
   ]
  },
  {
   "cell_type": "code",
   "execution_count": null,
   "metadata": {},
   "outputs": [],
   "source": [
    "awkward.__version__, cupy.__version__"
   ]
  },
  {
   "cell_type": "code",
   "execution_count": null,
   "metadata": {},
   "outputs": [],
   "source": [
    "import matplotlib.pyplot as plt"
   ]
  },
  {
   "cell_type": "code",
   "execution_count": null,
   "metadata": {},
   "outputs": [],
   "source": [
    "#[jpata@login-1 ~]$ rsync -r -R --progress /mnt/hadoop/store/./data/Run2017*/SingleMuon/NANOAOD/Nano14Dec2018-v1 titans.hep.caltech.edu:/nvmedata/store/\n",
    "files = OrderedDict()\n",
    "files[\"dy\"] = glob.glob(\"/nvmedata/store/mc/RunIIFall17NanoAOD/DYJetsToLL_M-50_TuneCP5_13TeV-amcatnloFXFX-pythia8/NANOAODSIM/**/*.root\", recursive=True)\n",
    "files[\"ggh\"] = glob.glob(\"/nvmedata/store/mc/RunIIFall17NanoAOD/GluGluHToMuMu_M125_13TeV_amcatnloFXFX_pythia8/NANOAODSIM/**/*.root\", recursive=True)\n",
    "\n",
    "files[\"data_2017\"] = glob.glob(\"/nvmedata/store/data/Run2017*/SingleMuon/NANOAOD/Nano14Dec2018-v1/**/*.root\")"
   ]
  },
  {
   "cell_type": "code",
   "execution_count": null,
   "metadata": {},
   "outputs": [],
   "source": [
    "#remove the friend trees\n",
    "files[\"ggh\"] = [x for x in files[\"ggh\"] if \"Friend\" not in x]"
   ]
  },
  {
   "cell_type": "code",
   "execution_count": null,
   "metadata": {},
   "outputs": [],
   "source": [
    "files[\"ggh\"]"
   ]
  },
  {
   "cell_type": "code",
   "execution_count": null,
   "metadata": {},
   "outputs": [],
   "source": [
    "for k, v in files.items():\n",
    "    print(k, len(v))"
   ]
  },
  {
   "cell_type": "code",
   "execution_count": null,
   "metadata": {},
   "outputs": [],
   "source": [
    "arrays_ev = [\n",
    "    \"PV_npvsGood\", \"Flag_METFilters\", \"Flag_goodVertices\", \"Generator_weight\", \"genWeight\", \"HLT_IsoMu24\"\n",
    "]\n",
    "arrays_jet = [\n",
    "    \"Jet_pt\", \"Jet_eta\", \"Jet_phi\", \"Jet_btagDeepB\", \"Jet_jetId\"\n",
    "]\n",
    "\n",
    "arrays_muon = [\n",
    "    \"nMuon\", \"Muon_pt\", \"Muon_eta\", \"Muon_phi\", \"Muon_mass\", \"Muon_pfRelIso03_all\", \"Muon_mediumId\", \"Muon_charge\"\n",
    "]\n",
    "\n",
    "arrays_to_load = arrays_jet + arrays_muon"
   ]
  },
  {
   "cell_type": "code",
   "execution_count": null,
   "metadata": {},
   "outputs": [],
   "source": [
    "arrays_gen = [\n",
    "    \"GenPart_pt\", \"GenPart_eta\", \"GenPart_phi\", \"GenPart_mass\", \"GenPart_pdgId\", \"GenPart_status\"\n",
    "]"
   ]
  },
  {
   "cell_type": "code",
   "execution_count": null,
   "metadata": {},
   "outputs": [],
   "source": [
    "fn = files[\"dy\"][0]\n",
    "fi = uproot.open(fn)\n",
    "tt = fi.get(\"Events\")"
   ]
  },
  {
   "cell_type": "code",
   "execution_count": null,
   "metadata": {},
   "outputs": [],
   "source": [
    "\"\"\"\n",
    "Preloads all data into memory.\n",
    "\n",
    "Args:\n",
    "    dataset_files (Dict[str, List[str]]): a dictionary of dataset name to the list of filenames for each dataset\n",
    "\n",
    "returns:\n",
    "    Dict[str, List[Dict[str, JaggedArray]]]\n",
    "    \n",
    "    For each dataset, a list of awkward-array JaggedArray dictionaries \n",
    "\"\"\"\n",
    "def preload_data(dataset_files, arrays_to_load):\n",
    "    ret = {}\n",
    "    for dsname, dsfiles in dataset_files.items():\n",
    "        ret[dsname] = [load_arrays(fn, arrays_to_load) for fn in dsfiles]\n",
    "    return ret\n",
    "\n",
    "def load_arrays(fn, arrays_to_load):\n",
    "    #print(\"opening file {0}\".format(fn))\n",
    "    fi = uproot.open(fn)\n",
    "    tt = fi.get(\"Events\")\n",
    "    with ThreadPoolExecutor(max_workers=16) as executor:\n",
    "        arrs = tt.arrays(arrays_to_load, executor=executor)\n",
    "    #print(\"loaded {0} arrays, shape=({1},)\".format(len(arrs), tt.numentries))\n",
    "    return arrs"
   ]
  },
  {
   "cell_type": "code",
   "execution_count": null,
   "metadata": {},
   "outputs": [],
   "source": [
    "def get_mem():\n",
    "    process = psutil.Process(os.getpid())\n",
    "    return process.memory_info().rss/1024.0/1024.0/1024.0"
   ]
  },
  {
   "cell_type": "code",
   "execution_count": null,
   "metadata": {},
   "outputs": [],
   "source": [
    "def print_mem():\n",
    "    print(\"Using {0:.2f} GB of RSS\".format(get_mem()))"
   ]
  },
  {
   "cell_type": "code",
   "execution_count": null,
   "metadata": {},
   "outputs": [],
   "source": [
    "print_mem()\n",
    "t0 = time.time()\n",
    "preloaded_data = preload_data({\n",
    "    \"dy\": files[\"dy\"][:2],\n",
    "     \"ggh\": files[\"ggh\"][:2],\n",
    "    \"data_2017\": files[\"data_2017\"][:2]\n",
    "    }, arrays_to_load)\n",
    "print_mem()\n",
    "t1 = time.time()\n",
    "dt = t1 - t0\n",
    "\n",
    "sum_ev = 0\n",
    "for k in preloaded_data.keys():\n",
    "    for arrs in preloaded_data[k]:\n",
    "        sum_ev += len(arrs[b\"Jet_pt\"])\n",
    "print(\"Loaded {0:.2E} events in {1:.0f} seconds, speed {2:.2E} Hz\".format(sum_ev, dt, sum_ev/dt))"
   ]
  },
  {
   "cell_type": "code",
   "execution_count": null,
   "metadata": {},
   "outputs": [],
   "source": [
    "pts = preloaded_data[\"ggh\"][0][b\"Jet_pt\"]\n",
    "etas = preloaded_data[\"ggh\"][0][b\"Jet_eta\"]\n",
    "\n",
    "class Jet:\n",
    "    def __init__(self, pt, eta):\n",
    "        self.pt = pt\n",
    "        self.eta = eta\n",
    "    def __repr__(self):\n",
    "        s = \"Jet({0:.2f}, {1:.2f})\".format(self.pt, self.eta)\n",
    "        return s"
   ]
  },
  {
   "cell_type": "code",
   "execution_count": null,
   "metadata": {},
   "outputs": [],
   "source": [
    "for iev in range(5):\n",
    "    jets = []\n",
    "    for imuon in range(len(pts[iev])):\n",
    "        jets += [Jet(pts[iev][imuon], etas[iev][imuon])]\n",
    "    print(len(jets), jets)"
   ]
  },
  {
   "cell_type": "code",
   "execution_count": null,
   "metadata": {},
   "outputs": [],
   "source": [
    "pts.offsets[:6]"
   ]
  },
  {
   "cell_type": "code",
   "execution_count": null,
   "metadata": {},
   "outputs": [],
   "source": [
    "pts.content[:23]"
   ]
  },
  {
   "cell_type": "code",
   "execution_count": null,
   "metadata": {},
   "outputs": [],
   "source": [
    "etas.content[:23]"
   ]
  },
  {
   "cell_type": "code",
   "execution_count": null,
   "metadata": {},
   "outputs": [],
   "source": [
    "ds = hepaccelerate.NanoAODDataset(\n",
    "    glob.glob(\"/nvmedata/store/mc/RunIIFall17NanoAOD/DYJetsToLL_M-50_TuneCP5_13TeV-amcatnloFXFX-pythia8/NANOAODSIM/**/*.root\", recursive=True),\n",
    "    arrays_to_load, \"Events\", NUMPY_LIB\n",
    ")\n",
    "\n",
    "if prepare_cache:\n",
    "    ds.preload(nthreads=16, do_progress=True, event_vars=[bytes(x, encoding='ascii') for x in arrays_ev])\n",
    "    ds.to_cache(do_progress=True)\n",
    "else:\n",
    "    ds.from_cache(do_progress=True)\n",
    "\n",
    "ret = ds.analyze(analyze_data_function,\n",
    "    is_mc=is_mc,\n",
    "    pu_corrections_target=pu_corrections_2016,\n",
    "    mu_pt_cut_leading=30, debug=False\n",
    ")\n",
    "\n",
    "#ret_35 = ds.analyze(analyze_data, mu_pt_cut_leading=35)\n",
    "#ret_40 = ds.analyze(analyze_data, mu_pt_cut_leading=40)\n",
    "ret.save_json(\"{0}.json\".format(datasetname))"
   ]
  },
  {
   "cell_type": "code",
   "execution_count": null,
   "metadata": {},
   "outputs": [],
   "source": [
    "pts = preloaded_data[\"ggh\"][1][b\"Jet_pt\"]\n",
    "pts_gpu = cupy.array(pts.content)\n",
    "bins_cpu = np.linspace(0,500,100)\n",
    "bins_gpu = cupy.linspace(0,500,100)"
   ]
  },
  {
   "cell_type": "code",
   "execution_count": null,
   "metadata": {},
   "outputs": [],
   "source": [
    "pts.shape[0], pts.content.shape[0]"
   ]
  },
  {
   "cell_type": "code",
   "execution_count": null,
   "metadata": {},
   "outputs": [],
   "source": [
    "%timeit np.histogram(pts.content, bins_cpu)"
   ]
  },
  {
   "cell_type": "code",
   "execution_count": null,
   "metadata": {},
   "outputs": [],
   "source": [
    "%timeit cupy.histogram(pts_cuda, bins_gpu)"
   ]
  },
  {
   "cell_type": "code",
   "execution_count": null,
   "metadata": {},
   "outputs": [],
   "source": []
  }
 ],
 "metadata": {
  "kernelspec": {
   "display_name": "Python 3",
   "language": "python",
   "name": "python3"
  },
  "language_info": {
   "codemirror_mode": {
    "name": "ipython",
    "version": 3
   },
   "file_extension": ".py",
   "mimetype": "text/x-python",
   "name": "python",
   "nbconvert_exporter": "python",
   "pygments_lexer": "ipython3",
   "version": "3.6.7"
  }
 },
 "nbformat": 4,
 "nbformat_minor": 2
}
