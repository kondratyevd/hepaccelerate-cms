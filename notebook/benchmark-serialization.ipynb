{
 "cells": [
  {
   "cell_type": "code",
   "execution_count": null,
   "metadata": {},
   "outputs": [],
   "source": [
    "import os"
   ]
  },
  {
   "cell_type": "code",
   "execution_count": null,
   "metadata": {},
   "outputs": [],
   "source": [
    "import uproot, awkward\n",
    "import numpy as np\n",
    "import glob\n",
    "import bcolz\n",
    "import time\n",
    "import os\n",
    "import cupy\n",
    "import shutil"
   ]
  },
  {
   "cell_type": "code",
   "execution_count": null,
   "metadata": {},
   "outputs": [],
   "source": [
    "fns = glob.glob(\"/nvmedata/store/data/Run2017E/SingleMuon/NANOAOD/Nano14Dec2018-v1/**/*.root\")"
   ]
  },
  {
   "cell_type": "code",
   "execution_count": null,
   "metadata": {},
   "outputs": [],
   "source": [
    "dd = uproot.open(\"/nvmedata/store/data/Run2017E/SingleMuon/NANOAOD/Nano14Dec2018-v1/10000/FCD50135-3590-2245-BA35-EFE64788BD9A.root\")"
   ]
  },
  {
   "cell_type": "code",
   "execution_count": null,
   "metadata": {},
   "outputs": [],
   "source": [
    "arrs2 = {}\n",
    "ks = [\"Jet_pt\", \"Jet_eta\", \"Jet_phi\", \"Jet_mass\"]\n",
    "for fn in fns[:5]:\n",
    "    dd = uproot.open(fn)\n",
    "    arrs = dd.get(\"Events\").arrays(ks)\n",
    "    for k in ks:\n",
    "        if k not in arrs2:\n",
    "            arrs2[k] = []\n",
    "        arrs2[k] += [arrs[bytes(k, 'ascii')]]\n",
    "\n",
    "for k in ks:\n",
    "    arrs2[k] = awkward.array.jagged.JaggedArray.concatenate(arrs2[k])"
   ]
  },
  {
   "cell_type": "code",
   "execution_count": null,
   "metadata": {},
   "outputs": [],
   "source": [
    "bcolz.blosc_set_nthreads(16)"
   ]
  },
  {
   "cell_type": "code",
   "execution_count": null,
   "metadata": {},
   "outputs": [],
   "source": [
    "class JaggedArrayStruct:\n",
    "    attr_names_dtypes = [(\"offsets\", np.int64), (\"pt\", np.float32), (\"eta\", np.float32), (\"phi\", np.float32), (\"mass\", np.float32)]\n",
    "    def __init__(self, offsets, pt, eta, phi, mass):\n",
    "        self.offsets = offsets\n",
    "        self.pt = pt\n",
    "        self.eta = eta\n",
    "        self.phi = phi\n",
    "        self.mass = mass\n",
    "    \n",
    "    def size_mb(self):\n",
    "        s = 0\n",
    "        for attr, dtype in JaggedArrayStruct.attr_names_dtypes:\n",
    "            s += getattr(self, attr).size\n",
    "        return s/1024.0/1024.0\n",
    "\n",
    "    def save_npz(self, fn):\n",
    "        with open(fn, \"wb\") as fi:\n",
    "            np.savez(fn, offsets=self.offsets, pt=self.pt, eta=self.eta, phi=self.phi, mass=self.mass)\n",
    "            \n",
    "    def save_memmap(self, fn):\n",
    "        for attr, dtype in self.attr_names_dtypes:\n",
    "            arr = getattr(self, attr)\n",
    "            m = np.memmap(fn + \".{0}.mmap\".format(attr), dtype=arr.dtype, mode='write',\n",
    "                shape=(len(arr))\n",
    "            )\n",
    "            m[:] = arr[:]\n",
    "            \n",
    "    def save_bcolz(self, fn, clevel, cname):\n",
    "        os.makedirs(fn)\n",
    "        for attr, dtype in self.attr_names_dtypes:\n",
    "            arr = getattr(self, attr)\n",
    "            arr_bcolz = bcolz.carray(arr, rootdir=\"{0}/{1}\".format(fn, attr), mode='w',\n",
    "                expectedlen=len(arr), cparams=bcolz.cparams(clevel=clevel, cname=cname)\n",
    "            )\n",
    "    \n",
    "    @staticmethod\n",
    "    def load_bcolz(fn):\n",
    "        arrs = []\n",
    "        for attr, dtype in JaggedArrayStruct.attr_names_dtypes:\n",
    "            a = bcolz.open(rootdir=\"{0}/{1}\".format(fn, attr))\n",
    "            arrs += [cupy.array(a)]\n",
    "        return JaggedArrayStruct(*arrs)\n",
    "    \n",
    "    @staticmethod\n",
    "    def load_memmap(fn):\n",
    "        arrs = []\n",
    "        for attr, dtype in JaggedArrayStruct.attr_names_dtypes:\n",
    "            m = np.memmap(fn + \".{0}.mmap\".format(attr), dtype=dtype, mode='r')\n",
    "            arr = cupy.array(m)\n",
    "            arrs += [arr]\n",
    "        return JaggedArrayStruct(*arrs)\n",
    "        \n",
    "    @staticmethod\n",
    "    def load_npz(fn):\n",
    "        with open(fn, \"rb\") as fi:\n",
    "            dd = np.load(fi)\n",
    "            arrs = []\n",
    "            for attr, dtype in JaggedArrayStruct.attr_names_dtypes:\n",
    "                arrs += [cupy.array(dd[attr])]\n",
    "            return JaggedArrayStruct(*arrs)"
   ]
  },
  {
   "cell_type": "code",
   "execution_count": null,
   "metadata": {},
   "outputs": [],
   "source": [
    "s = JaggedArrayStruct(\n",
    "    arrs2[\"Jet_pt\"].offsets,\n",
    "    arrs2[\"Jet_pt\"].content,\n",
    "    arrs2[\"Jet_eta\"].content,\n",
    "    arrs2[\"Jet_phi\"].content,\n",
    "    arrs2[\"Jet_mass\"].content\n",
    ")"
   ]
  },
  {
   "cell_type": "code",
   "execution_count": null,
   "metadata": {},
   "outputs": [],
   "source": [
    "import os\n",
    "def get_size(start_path = '.'):\n",
    "    total_size = 0\n",
    "    for dirpath, dirnames, filenames in os.walk(start_path):\n",
    "        for f in filenames:\n",
    "            fp = os.path.join(dirpath, f)\n",
    "            total_size += os.path.getsize(fp)\n",
    "    return total_size"
   ]
  },
  {
   "cell_type": "code",
   "execution_count": null,
   "metadata": {},
   "outputs": [],
   "source": [
    "fn = \"/optane/jpata/test.bcolz\"\n",
    "for i in range(3):\n",
    "    \n",
    "    t0 = time.time()\n",
    "\n",
    "    if os.path.isdir(fn):\n",
    "        shutil.rmtree(fn,)\n",
    "    s.save_bcolz(fn, 5, \"blosclz\")\n",
    "    if i==0:\n",
    "        print(\"size on disk: \", get_size(fn)/1024.0/1024.0)\n",
    "\n",
    "    t1 = time.time()\n",
    "    dt = t1 - t0\n",
    "    print(\"save bcolz {0:.2f} MB/s\".format(s.size_mb()/dt))\n",
    "    \n",
    "    t0 = time.time()\n",
    "\n",
    "    s2 = JaggedArrayStruct.load_bcolz(fn)\n",
    "\n",
    "    t1 = time.time()\n",
    "    dt = t1 - t0\n",
    "    print(\"load bcolz {0:.2f} MB/s\".format(s.size_mb()/dt))"
   ]
  },
  {
   "cell_type": "code",
   "execution_count": null,
   "metadata": {},
   "outputs": [],
   "source": [
    "fn = \"/nvmedata/test_mmap/test\"\n",
    "for i in range(3):\n",
    "\n",
    "    t0 = time.time()\n",
    "    s.save_memmap(fn)\n",
    "\n",
    "    t1 = time.time()\n",
    "    dt = t1 - t0\n",
    "\n",
    "    if i==0:\n",
    "        print(\"size on disk: \", get_size(\"/nvmedata/test_mmap\")/1024.0/1024.0)\n",
    "\n",
    "    print(\"save memmap {0:.2f} MB/s\".format(s.size_mb()/dt))\n",
    "\n",
    "            \n",
    "    t0 = time.time()\n",
    "\n",
    "    JaggedArrayStruct.load_memmap(fn)\n",
    "\n",
    "    t1 = time.time()\n",
    "    dt = t1 - t0\n",
    "    print(\"load memmap {0:.2f} MB/s\".format(s.size_mb()/dt))\n"
   ]
  },
  {
   "cell_type": "code",
   "execution_count": null,
   "metadata": {},
   "outputs": [],
   "source": [
    "t0 = time.time()\n",
    "\n",
    "s.save_npz(\"test.npz\")\n",
    "\n",
    "t1 = time.time()\n",
    "dt = t1 - t0\n",
    "print(\"{0:.2f} MB/s\".format(s.size_mb()/dt))"
   ]
  },
  {
   "cell_type": "code",
   "execution_count": null,
   "metadata": {},
   "outputs": [],
   "source": [
    "t0 = time.time()\n",
    "\n",
    "JaggedArrayStruct.load_npz(\"test.npz\")\n",
    "\n",
    "t1 = time.time()\n",
    "dt = t1 - t0\n",
    "print(\"{0:.2f} MB/s\".format(s.size_mb()/dt))"
   ]
  }
 ],
 "metadata": {
  "kernelspec": {
   "display_name": "Python 3",
   "language": "python",
   "name": "python3"
  },
  "language_info": {
   "codemirror_mode": {
    "name": "ipython",
    "version": 3
   },
   "file_extension": ".py",
   "mimetype": "text/x-python",
   "name": "python",
   "nbconvert_exporter": "python",
   "pygments_lexer": "ipython3",
   "version": "3.6.7"
  }
 },
 "nbformat": 4,
 "nbformat_minor": 2
}
